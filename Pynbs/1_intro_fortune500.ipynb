{
 "cells": [
  {
   "cell_type": "markdown",
   "metadata": {
    "tags": [
     "jekyll_front_matter"
    ],
    "front_matter": {
     "title": "Introduction: Fortune 500 Companies",
     "excerpt": "A brief introduction to data analysis with Python using the fortune 500 dataset.",
     "permalink": "/python/intro-fortune-500",
     "categories": [
      "python",
      "intro"
     ],
     "tags": [
      "python",
      "introduction",
      "fortune500",
      "EDA"
     ],
     "layout": "single-jnb",
     "author": "Ryan Gust",
     "date": "2018-09-16",
     "last_modified_at": "2019-01-08",
     "header": {
      "teaser": "assets/images/teasers/thumbs/fortune500.png"
     }
    },
    "img_credit": "\n<!--Image thumbnail credit:\n https://www.bizjournals.com/columbus/news/2016/06/06/fortune-500-includes-24-ohio-companies-and-big.html \n-->\n<a style=\"float:right\" class=\"btn btn--info\" href=\"{% link _r/2018-09-16-intro_fortune500.html %}\">R Counterpart</a>\n\n"
   },
   "source": [
    "<div style=\"color:#483D8B;text-align:center\">\n",
    "  <h1> Introduction: Fortune 500 Companies </h1>\n",
    "  <h3> Ryan Gust </h3>\n",
    "  <h4> Updated: 2019-01-08 </h4>\n",
    "</div>"
   ]
  },
  {
   "cell_type": "markdown",
   "metadata": {},
   "source": [
    "## Overview"
   ]
  },
  {
   "cell_type": "markdown",
   "metadata": {},
   "source": [
    "The purpose of this introductory notebook is to get our feet wet with python for data analysis, starting off with a simple, but certainly not boring dataset. We will be using the Fortune 500 companies list from 1955-2005.\n",
    "\n",
    "We'll do some simple plotting with pandas and matplotlib to explore the data in greater detail and address issues with the data as we come across them."
   ]
  },
  {
   "cell_type": "markdown",
   "metadata": {},
   "source": [
    "#### Imports"
   ]
  },
  {
   "cell_type": "code",
   "execution_count": 1,
   "metadata": {},
   "outputs": [],
   "source": [
    "import numpy as np\n",
    "import pandas as pd\n",
    "import matplotlib.pyplot as plt"
   ]
  },
  {
   "cell_type": "markdown",
   "metadata": {},
   "source": [
    "The holy trinity of python data analysis, if ever in doubt, these imports are always a good place to start."
   ]
  },
  {
   "cell_type": "markdown",
   "metadata": {},
   "source": [
    "## Data"
   ]
  },
  {
   "cell_type": "markdown",
   "metadata": {},
   "source": [
    "The external data used in this notebook can be obtained from: https://www.dataquest.io/blog/large_files/fortune500.csv\n",
    "\n",
    "The CSV file contains information about fortune 500 companies spanning the years 1955 - 2005.<br>\n",
    "There are 25500 rows representing 51 (years) sets of 500 (companies).\n",
    "\n",
    "**The provided columns include:**\n",
    "\n",
    "* `Year` - year that the fortune 500 list was published\n",
    "* `Rank` - company's position on the fortune 500 list\n",
    "* `Company` - name of the company\n",
    "* `Revenue (in millions)` - company's revenue for that year\n",
    "* `Profit (in millions)` - company's profit for that year"
   ]
  },
  {
   "cell_type": "code",
   "execution_count": 2,
   "metadata": {},
   "outputs": [],
   "source": [
    "### Uncomment this line to pull in the dataset ###\n",
    "#!wget https://www.dataquest.io/blog/large_files/fortune500.csv"
   ]
  },
  {
   "cell_type": "code",
   "execution_count": 3,
   "metadata": {},
   "outputs": [
    {
     "data": {
      "text/html": [
       "<div>\n",
       "<style scoped>\n",
       "    .dataframe tbody tr th:only-of-type {\n",
       "        vertical-align: middle;\n",
       "    }\n",
       "\n",
       "    .dataframe tbody tr th {\n",
       "        vertical-align: top;\n",
       "    }\n",
       "\n",
       "    .dataframe thead th {\n",
       "        text-align: right;\n",
       "    }\n",
       "</style>\n",
       "<table border=\"1\" class=\"dataframe\">\n",
       "  <thead>\n",
       "    <tr style=\"text-align: right;\">\n",
       "      <th></th>\n",
       "      <th>Year</th>\n",
       "      <th>Rank</th>\n",
       "      <th>Company</th>\n",
       "      <th>Revenue (in millions)</th>\n",
       "      <th>Profit (in millions)</th>\n",
       "    </tr>\n",
       "  </thead>\n",
       "  <tbody>\n",
       "    <tr>\n",
       "      <th>0</th>\n",
       "      <td>1955</td>\n",
       "      <td>1</td>\n",
       "      <td>General Motors</td>\n",
       "      <td>9823.5</td>\n",
       "      <td>806</td>\n",
       "    </tr>\n",
       "    <tr>\n",
       "      <th>1</th>\n",
       "      <td>1955</td>\n",
       "      <td>2</td>\n",
       "      <td>Exxon Mobil</td>\n",
       "      <td>5661.4</td>\n",
       "      <td>584.8</td>\n",
       "    </tr>\n",
       "    <tr>\n",
       "      <th>2</th>\n",
       "      <td>1955</td>\n",
       "      <td>3</td>\n",
       "      <td>U.S. Steel</td>\n",
       "      <td>3250.4</td>\n",
       "      <td>195.4</td>\n",
       "    </tr>\n",
       "    <tr>\n",
       "      <th>3</th>\n",
       "      <td>1955</td>\n",
       "      <td>4</td>\n",
       "      <td>General Electric</td>\n",
       "      <td>2959.1</td>\n",
       "      <td>212.6</td>\n",
       "    </tr>\n",
       "    <tr>\n",
       "      <th>4</th>\n",
       "      <td>1955</td>\n",
       "      <td>5</td>\n",
       "      <td>Esmark</td>\n",
       "      <td>2510.8</td>\n",
       "      <td>19.1</td>\n",
       "    </tr>\n",
       "  </tbody>\n",
       "</table>\n",
       "</div>"
      ],
      "text/plain": [
       "   Year  Rank           Company  Revenue (in millions) Profit (in millions)\n",
       "0  1955     1    General Motors                 9823.5                  806\n",
       "1  1955     2       Exxon Mobil                 5661.4                584.8\n",
       "2  1955     3        U.S. Steel                 3250.4                195.4\n",
       "3  1955     4  General Electric                 2959.1                212.6\n",
       "4  1955     5            Esmark                 2510.8                 19.1"
      ]
     },
     "execution_count": 3,
     "metadata": {},
     "output_type": "execute_result"
    }
   ],
   "source": [
    "f500_df = pd.read_csv('data/fortune500.csv')\n",
    "f500_df.head()"
   ]
  },
  {
   "cell_type": "markdown",
   "metadata": {},
   "source": [
    "## Exploratory Data Analysis"
   ]
  },
  {
   "cell_type": "markdown",
   "metadata": {},
   "source": [
    "Overall, the data is relatively clean. However, there are a few potential issues that should be noted:\n",
    "* The Profit column had some entries with a value of 'N.A.' which caused the `dtype` of entire column to be cast to object instead of float preventing many numpy operations. This was resolved by simply replacing the 'N.A.' values with `np.nan` (0 also could have been used).\n",
    "* Two companies (CBS and OfficeMax) appear to have been added to the list twice between the years 1972-1981 and 1995-2003. No attempt was made address these duplications, just in case there was a particular reason this was done (such as pre-merger representations), but it could done by dropping the duplicate rows or replacing the company name with unknown."
   ]
  },
  {
   "cell_type": "code",
   "execution_count": 4,
   "metadata": {},
   "outputs": [
    {
     "data": {
      "text/plain": [
       "Year                       int64\n",
       "Rank                       int64\n",
       "Company                   object\n",
       "Revenue (in millions)    float64\n",
       "Profit (in millions)      object\n",
       "dtype: object"
      ]
     },
     "execution_count": 4,
     "metadata": {},
     "output_type": "execute_result"
    }
   ],
   "source": [
    "f500_df.dtypes"
   ]
  },
  {
   "cell_type": "code",
   "execution_count": 5,
   "metadata": {
    "scrolled": true
   },
   "outputs": [
    {
     "data": {
      "text/plain": [
       "Year                       int64\n",
       "Rank                       int64\n",
       "Company                   object\n",
       "Revenue (in millions)    float64\n",
       "Profit (in millions)     float64\n",
       "dtype: object"
      ]
     },
     "execution_count": 5,
     "metadata": {},
     "output_type": "execute_result"
    }
   ],
   "source": [
    "# replace string 'N.A.' with numpy's nan value to correct dtype of Profit column\n",
    "f500_df['Profit (in millions)'] = f500_df['Profit (in millions)'].replace('N.A.',np.nan).astype(np.float)\n",
    "f500_df.dtypes"
   ]
  },
  {
   "cell_type": "markdown",
   "metadata": {},
   "source": [
    "The dtype of Profit hinted at a potential issue with the data. Replacing the 'N.A.' values with numpy's `np.nan` allows us to cast the column to a float instead of an object, opening up the data for far more manipulations."
   ]
  },
  {
   "cell_type": "code",
   "execution_count": 6,
   "metadata": {},
   "outputs": [
    {
     "data": {
      "text/plain": [
       "1887"
      ]
     },
     "execution_count": 6,
     "metadata": {},
     "output_type": "execute_result"
    }
   ],
   "source": [
    "f500_df.Company.nunique()"
   ]
  },
  {
   "cell_type": "markdown",
   "metadata": {},
   "source": [
    "1887 unique companies have been included on the Fortune 500 list over the years"
   ]
  },
  {
   "cell_type": "code",
   "execution_count": 7,
   "metadata": {
    "scrolled": true
   },
   "outputs": [
    {
     "data": {
      "text/plain": [
       "74"
      ]
     },
     "execution_count": 7,
     "metadata": {},
     "output_type": "execute_result"
    }
   ],
   "source": [
    "(f500_df.Company.value_counts() > 50).sum()"
   ]
  },
  {
   "cell_type": "markdown",
   "metadata": {},
   "source": [
    "74 companies have been on the list every year since 1955"
   ]
  },
  {
   "cell_type": "code",
   "execution_count": 8,
   "metadata": {
    "scrolled": true
   },
   "outputs": [
    {
     "data": {
      "text/plain": [
       "CBS                        57\n",
       "OfficeMax                  55\n",
       "Motorola                   51\n",
       "Campbell Soup              51\n",
       "Rohm & Haas                51\n",
       "Procter & Gamble           51\n",
       "Sunoco                     51\n",
       "Kellogg                    51\n",
       "Intl. Business Machines    51\n",
       "Exxon Mobil                51\n",
       "Name: Company, dtype: int64"
      ]
     },
     "execution_count": 8,
     "metadata": {},
     "output_type": "execute_result"
    }
   ],
   "source": [
    "f500_df.Company.value_counts()[:10]"
   ]
  },
  {
   "cell_type": "markdown",
   "metadata": {},
   "source": [
    "It appears that CBS and OfficeMax, have duplicate entries in certain years, let's see if we can track down the erroneous years."
   ]
  },
  {
   "cell_type": "code",
   "execution_count": 9,
   "metadata": {
    "scrolled": false
   },
   "outputs": [
    {
     "data": {
      "text/html": [
       "<div>\n",
       "<style scoped>\n",
       "    .dataframe tbody tr th:only-of-type {\n",
       "        vertical-align: middle;\n",
       "    }\n",
       "\n",
       "    .dataframe tbody tr th {\n",
       "        vertical-align: top;\n",
       "    }\n",
       "\n",
       "    .dataframe thead th {\n",
       "        text-align: right;\n",
       "    }\n",
       "</style>\n",
       "<table border=\"1\" class=\"dataframe\">\n",
       "  <thead>\n",
       "    <tr style=\"text-align: right;\">\n",
       "      <th></th>\n",
       "      <th></th>\n",
       "      <th>Company</th>\n",
       "      <th>Year</th>\n",
       "    </tr>\n",
       "    <tr>\n",
       "      <th>Year</th>\n",
       "      <th>Company</th>\n",
       "      <th></th>\n",
       "      <th></th>\n",
       "    </tr>\n",
       "  </thead>\n",
       "  <tbody>\n",
       "    <tr>\n",
       "      <th>1972</th>\n",
       "      <th>CBS</th>\n",
       "      <td>2</td>\n",
       "      <td>2</td>\n",
       "    </tr>\n",
       "    <tr>\n",
       "      <th>1973</th>\n",
       "      <th>CBS</th>\n",
       "      <td>2</td>\n",
       "      <td>2</td>\n",
       "    </tr>\n",
       "    <tr>\n",
       "      <th>1974</th>\n",
       "      <th>CBS</th>\n",
       "      <td>2</td>\n",
       "      <td>2</td>\n",
       "    </tr>\n",
       "    <tr>\n",
       "      <th>1975</th>\n",
       "      <th>CBS</th>\n",
       "      <td>2</td>\n",
       "      <td>2</td>\n",
       "    </tr>\n",
       "    <tr>\n",
       "      <th>1976</th>\n",
       "      <th>CBS</th>\n",
       "      <td>2</td>\n",
       "      <td>2</td>\n",
       "    </tr>\n",
       "    <tr>\n",
       "      <th>1977</th>\n",
       "      <th>CBS</th>\n",
       "      <td>2</td>\n",
       "      <td>2</td>\n",
       "    </tr>\n",
       "    <tr>\n",
       "      <th>1978</th>\n",
       "      <th>CBS</th>\n",
       "      <td>2</td>\n",
       "      <td>2</td>\n",
       "    </tr>\n",
       "    <tr>\n",
       "      <th>1979</th>\n",
       "      <th>CBS</th>\n",
       "      <td>2</td>\n",
       "      <td>2</td>\n",
       "    </tr>\n",
       "    <tr>\n",
       "      <th>1980</th>\n",
       "      <th>CBS</th>\n",
       "      <td>2</td>\n",
       "      <td>2</td>\n",
       "    </tr>\n",
       "    <tr>\n",
       "      <th>1981</th>\n",
       "      <th>CBS</th>\n",
       "      <td>2</td>\n",
       "      <td>2</td>\n",
       "    </tr>\n",
       "    <tr>\n",
       "      <th>1995</th>\n",
       "      <th>CBS</th>\n",
       "      <td>2</td>\n",
       "      <td>2</td>\n",
       "    </tr>\n",
       "    <tr>\n",
       "      <th>1996</th>\n",
       "      <th>OfficeMax</th>\n",
       "      <td>2</td>\n",
       "      <td>2</td>\n",
       "    </tr>\n",
       "    <tr>\n",
       "      <th>1997</th>\n",
       "      <th>OfficeMax</th>\n",
       "      <td>2</td>\n",
       "      <td>2</td>\n",
       "    </tr>\n",
       "    <tr>\n",
       "      <th>1998</th>\n",
       "      <th>OfficeMax</th>\n",
       "      <td>2</td>\n",
       "      <td>2</td>\n",
       "    </tr>\n",
       "    <tr>\n",
       "      <th>1999</th>\n",
       "      <th>OfficeMax</th>\n",
       "      <td>2</td>\n",
       "      <td>2</td>\n",
       "    </tr>\n",
       "    <tr>\n",
       "      <th>2000</th>\n",
       "      <th>OfficeMax</th>\n",
       "      <td>2</td>\n",
       "      <td>2</td>\n",
       "    </tr>\n",
       "    <tr>\n",
       "      <th>2001</th>\n",
       "      <th>OfficeMax</th>\n",
       "      <td>2</td>\n",
       "      <td>2</td>\n",
       "    </tr>\n",
       "    <tr>\n",
       "      <th>2002</th>\n",
       "      <th>OfficeMax</th>\n",
       "      <td>2</td>\n",
       "      <td>2</td>\n",
       "    </tr>\n",
       "    <tr>\n",
       "      <th>2003</th>\n",
       "      <th>OfficeMax</th>\n",
       "      <td>2</td>\n",
       "      <td>2</td>\n",
       "    </tr>\n",
       "  </tbody>\n",
       "</table>\n",
       "</div>"
      ],
      "text/plain": [
       "                Company  Year\n",
       "Year Company                 \n",
       "1972 CBS              2     2\n",
       "1973 CBS              2     2\n",
       "1974 CBS              2     2\n",
       "1975 CBS              2     2\n",
       "1976 CBS              2     2\n",
       "1977 CBS              2     2\n",
       "1978 CBS              2     2\n",
       "1979 CBS              2     2\n",
       "1980 CBS              2     2\n",
       "1981 CBS              2     2\n",
       "1995 CBS              2     2\n",
       "1996 OfficeMax        2     2\n",
       "1997 OfficeMax        2     2\n",
       "1998 OfficeMax        2     2\n",
       "1999 OfficeMax        2     2\n",
       "2000 OfficeMax        2     2\n",
       "2001 OfficeMax        2     2\n",
       "2002 OfficeMax        2     2\n",
       "2003 OfficeMax        2     2"
      ]
     },
     "execution_count": 9,
     "metadata": {},
     "output_type": "execute_result"
    }
   ],
   "source": [
    "# Years 1972-1981 and 1995-2003 have duplicate values\n",
    "(f500_df[f500_df.Company.isin(['CBS','OfficeMax'])]\n",
    " .groupby(['Year','Company'])['Company','Year']\n",
    " .count()).query('Company > 1')"
   ]
  },
  {
   "cell_type": "code",
   "execution_count": 10,
   "metadata": {
    "scrolled": true
   },
   "outputs": [],
   "source": [
    "# Choose 3 companies for plotting\n",
    "comp3_df = f500_df[f500_df.Company.isin(['Kellogg','3M','Pfizer'])].copy()"
   ]
  },
  {
   "cell_type": "code",
   "execution_count": 11,
   "metadata": {},
   "outputs": [],
   "source": [
    "# Rename the columns for easier pandas access\n",
    "comp3_df.rename(columns={'Revenue (in millions)':'Revenue_m', 'Profit (in millions)':'Profit_m'}, inplace=True)"
   ]
  },
  {
   "cell_type": "code",
   "execution_count": 12,
   "metadata": {
    "scrolled": true
   },
   "outputs": [
    {
     "data": {
      "text/html": [
       "<div>\n",
       "<style scoped>\n",
       "    .dataframe tbody tr th:only-of-type {\n",
       "        vertical-align: middle;\n",
       "    }\n",
       "\n",
       "    .dataframe tbody tr th {\n",
       "        vertical-align: top;\n",
       "    }\n",
       "\n",
       "    .dataframe thead th {\n",
       "        text-align: right;\n",
       "    }\n",
       "</style>\n",
       "<table border=\"1\" class=\"dataframe\">\n",
       "  <thead>\n",
       "    <tr style=\"text-align: right;\">\n",
       "      <th></th>\n",
       "      <th>Year</th>\n",
       "      <th>Rank</th>\n",
       "      <th>Company</th>\n",
       "      <th>Revenue_m</th>\n",
       "      <th>Profit_m</th>\n",
       "    </tr>\n",
       "  </thead>\n",
       "  <tbody>\n",
       "    <tr>\n",
       "      <th>130</th>\n",
       "      <td>1955</td>\n",
       "      <td>131</td>\n",
       "      <td>3M</td>\n",
       "      <td>230.9</td>\n",
       "      <td>24.6</td>\n",
       "    </tr>\n",
       "    <tr>\n",
       "      <th>185</th>\n",
       "      <td>1955</td>\n",
       "      <td>186</td>\n",
       "      <td>Kellogg</td>\n",
       "      <td>169.5</td>\n",
       "      <td>12.7</td>\n",
       "    </tr>\n",
       "    <tr>\n",
       "      <th>214</th>\n",
       "      <td>1955</td>\n",
       "      <td>215</td>\n",
       "      <td>Pfizer</td>\n",
       "      <td>145.2</td>\n",
       "      <td>15.2</td>\n",
       "    </tr>\n",
       "    <tr>\n",
       "      <th>624</th>\n",
       "      <td>1956</td>\n",
       "      <td>125</td>\n",
       "      <td>3M</td>\n",
       "      <td>281.9</td>\n",
       "      <td>34.7</td>\n",
       "    </tr>\n",
       "    <tr>\n",
       "      <th>689</th>\n",
       "      <td>1956</td>\n",
       "      <td>190</td>\n",
       "      <td>Kellogg</td>\n",
       "      <td>182.1</td>\n",
       "      <td>13.8</td>\n",
       "    </tr>\n",
       "    <tr>\n",
       "      <th>706</th>\n",
       "      <td>1956</td>\n",
       "      <td>207</td>\n",
       "      <td>Pfizer</td>\n",
       "      <td>163.8</td>\n",
       "      <td>15.3</td>\n",
       "    </tr>\n",
       "    <tr>\n",
       "      <th>1115</th>\n",
       "      <td>1957</td>\n",
       "      <td>116</td>\n",
       "      <td>3M</td>\n",
       "      <td>330.8</td>\n",
       "      <td>38.7</td>\n",
       "    </tr>\n",
       "    <tr>\n",
       "      <th>1195</th>\n",
       "      <td>1957</td>\n",
       "      <td>196</td>\n",
       "      <td>Kellogg</td>\n",
       "      <td>201.7</td>\n",
       "      <td>15.1</td>\n",
       "    </tr>\n",
       "    <tr>\n",
       "      <th>1217</th>\n",
       "      <td>1957</td>\n",
       "      <td>218</td>\n",
       "      <td>Pfizer</td>\n",
       "      <td>178.4</td>\n",
       "      <td>18.3</td>\n",
       "    </tr>\n",
       "  </tbody>\n",
       "</table>\n",
       "</div>"
      ],
      "text/plain": [
       "      Year  Rank  Company  Revenue_m  Profit_m\n",
       "130   1955   131       3M      230.9      24.6\n",
       "185   1955   186  Kellogg      169.5      12.7\n",
       "214   1955   215   Pfizer      145.2      15.2\n",
       "624   1956   125       3M      281.9      34.7\n",
       "689   1956   190  Kellogg      182.1      13.8\n",
       "706   1956   207   Pfizer      163.8      15.3\n",
       "1115  1957   116       3M      330.8      38.7\n",
       "1195  1957   196  Kellogg      201.7      15.1\n",
       "1217  1957   218   Pfizer      178.4      18.3"
      ]
     },
     "execution_count": 12,
     "metadata": {},
     "output_type": "execute_result"
    }
   ],
   "source": [
    "comp3_df.sort_values(['Year','Rank'])[:9]"
   ]
  },
  {
   "cell_type": "code",
   "execution_count": 13,
   "metadata": {
    "scrolled": false
   },
   "outputs": [
    {
     "data": {
      "image/png": "[encoded data removed]",
      "text/plain": [
       "<Figure size 720x432 with 1 Axes>"
      ]
     },
     "metadata": {},
     "output_type": "display_data"
    }
   ],
   "source": [
    "plt.style.use('seaborn')\n",
    "fig, ax = plt.subplots(figsize=(10,6))\n",
    "ax.plot('Year','Rank',data=comp3_df[comp3_df.Company=='3M'],c='red', linestyle='solid',label='3M')\n",
    "ax.plot('Year','Rank',data=comp3_df[comp3_df.Company=='Kellogg'],c='orange', linestyle='dotted',label='Kellogg')\n",
    "ax.plot('Year','Rank',data=comp3_df[comp3_df.Company=='Pfizer'],c='blue', linestyle='dashed',label='Pfizer')\n",
    "ax.axvline(1994)\n",
    "ax.set_xlabel('Year', fontdict={'fontsize':'14'})\n",
    "ax.set_xticks(np.arange(1955,2006,5))\n",
    "\n",
    "ax.set_ylabel('Rank',fontdict={'fontsize':'14'})\n",
    "ax.set_yticks(np.arange(0,300,30))\n",
    "ax.invert_yaxis()\n",
    "\n",
    "ax.legend(fontsize='large',loc='best')\n",
    "fig.suptitle('Fortune 500 Rank')\n",
    "ax.set_title('3M, Kellogg, and Pfizer (1955-2005)');"
   ]
  },
  {
   "cell_type": "markdown",
   "metadata": {},
   "source": [
    "Clearly, there was an upset in 1994 that led to the rank decline of at least 3 powerful companies. In absence of other information, one may guess that the proliferation of the internet may be at play in these sharp declines."
   ]
  },
  {
   "cell_type": "code",
   "execution_count": 14,
   "metadata": {},
   "outputs": [],
   "source": [
    "f93_96 = f500_df[f500_df.Year.isin(range(1993,1997))][['Year','Company','Rank']]"
   ]
  },
  {
   "cell_type": "markdown",
   "metadata": {},
   "source": [
    "To get a closer look, we'll zoom in on the range between 1993 and 1996"
   ]
  },
  {
   "cell_type": "code",
   "execution_count": 15,
   "metadata": {
    "scrolled": true
   },
   "outputs": [],
   "source": [
    "f36_piv = f93_96.pivot_table(values=['Rank'],index=['Company'],columns=['Year']).Rank"
   ]
  },
  {
   "cell_type": "markdown",
   "metadata": {},
   "source": [
    "Using a pivot table, we can see which companies joined the fortune 500 list between these years"
   ]
  },
  {
   "cell_type": "code",
   "execution_count": 16,
   "metadata": {
    "scrolled": true
   },
   "outputs": [
    {
     "data": {
      "text/html": [
       "<div>\n",
       "<style scoped>\n",
       "    .dataframe tbody tr th:only-of-type {\n",
       "        vertical-align: middle;\n",
       "    }\n",
       "\n",
       "    .dataframe tbody tr th {\n",
       "        vertical-align: top;\n",
       "    }\n",
       "\n",
       "    .dataframe thead th {\n",
       "        text-align: right;\n",
       "    }\n",
       "</style>\n",
       "<table border=\"1\" class=\"dataframe\">\n",
       "  <thead>\n",
       "    <tr style=\"text-align: right;\">\n",
       "      <th>Year</th>\n",
       "      <th>1994</th>\n",
       "      <th>1995</th>\n",
       "    </tr>\n",
       "    <tr>\n",
       "      <th>Company</th>\n",
       "      <th></th>\n",
       "      <th></th>\n",
       "    </tr>\n",
       "  </thead>\n",
       "  <tbody>\n",
       "    <tr>\n",
       "      <th>Wal-Mart Stores</th>\n",
       "      <td>0.0</td>\n",
       "      <td>-497.0</td>\n",
       "    </tr>\n",
       "    <tr>\n",
       "      <th>AT&amp;T</th>\n",
       "      <td>0.0</td>\n",
       "      <td>-496.0</td>\n",
       "    </tr>\n",
       "    <tr>\n",
       "      <th>Sears Roebuck</th>\n",
       "      <td>0.0</td>\n",
       "      <td>-492.0</td>\n",
       "    </tr>\n",
       "    <tr>\n",
       "      <th>State Farm Insurance Cos</th>\n",
       "      <td>0.0</td>\n",
       "      <td>-489.0</td>\n",
       "    </tr>\n",
       "    <tr>\n",
       "      <th>Prudential Ins. Co. of America</th>\n",
       "      <td>0.0</td>\n",
       "      <td>-488.0</td>\n",
       "    </tr>\n",
       "    <tr>\n",
       "      <th>Kmart Holding</th>\n",
       "      <td>0.0</td>\n",
       "      <td>-486.0</td>\n",
       "    </tr>\n",
       "    <tr>\n",
       "      <th>Citicorp</th>\n",
       "      <td>0.0</td>\n",
       "      <td>-484.0</td>\n",
       "    </tr>\n",
       "    <tr>\n",
       "      <th>ITT Industries</th>\n",
       "      <td>0.0</td>\n",
       "      <td>-478.0</td>\n",
       "    </tr>\n",
       "    <tr>\n",
       "      <th>Kroger</th>\n",
       "      <td>0.0</td>\n",
       "      <td>-476.0</td>\n",
       "    </tr>\n",
       "    <tr>\n",
       "      <th>American Intl. Group</th>\n",
       "      <td>0.0</td>\n",
       "      <td>-475.0</td>\n",
       "    </tr>\n",
       "  </tbody>\n",
       "</table>\n",
       "</div>"
      ],
      "text/plain": [
       "Year                            1994   1995\n",
       "Company                                    \n",
       "Wal-Mart Stores                  0.0 -497.0\n",
       "AT&T                             0.0 -496.0\n",
       "Sears Roebuck                    0.0 -492.0\n",
       "State Farm Insurance Cos         0.0 -489.0\n",
       "Prudential Ins. Co. of America   0.0 -488.0\n",
       "Kmart Holding                    0.0 -486.0\n",
       "Citicorp                         0.0 -484.0\n",
       "ITT Industries                   0.0 -478.0\n",
       "Kroger                           0.0 -476.0\n",
       "American Intl. Group             0.0 -475.0"
      ]
     },
     "execution_count": 16,
     "metadata": {},
     "output_type": "execute_result"
    }
   ],
   "source": [
    "f36_piv.fillna(501).diff(axis=1)[[1994,1995]].sort_values([1995])[:10]"
   ]
  },
  {
   "cell_type": "markdown",
   "metadata": {},
   "source": [
    "Here, the negative numbers indicate how far each company jumped in rank between 1994 and 1995. 0 indicates no ranking for the year. "
   ]
  },
  {
   "cell_type": "code",
   "execution_count": 17,
   "metadata": {
    "scrolled": true
   },
   "outputs": [
    {
     "data": {
      "text/plain": [
       "(288, 4)"
      ]
     },
     "execution_count": 17,
     "metadata": {},
     "output_type": "execute_result"
    }
   ],
   "source": [
    "f36_piv[f36_piv[1994].isna() & ~f36_piv[1995].isna()].shape"
   ]
  },
  {
   "cell_type": "markdown",
   "metadata": {},
   "source": [
    "In total, 288 companies joined the fortune 500 list that were not on it the previous year. So, our original hypothesis that the internet was the largest contributer is likely inaccurate. Given the shear number of new companies on the list, the more likely scenario is that in 1995 there was a change in how the ranking were calculated, or more companies were being considered."
   ]
  },
  {
   "cell_type": "code",
   "execution_count": 18,
   "metadata": {},
   "outputs": [],
   "source": [
    "f5s = f500_df.pivot_table(values=['Rank'],index=['Year'],columns=['Company']).Rank"
   ]
  },
  {
   "cell_type": "code",
   "execution_count": 19,
   "metadata": {},
   "outputs": [],
   "source": [
    "year_diff = pd.Series({i+1:len(set(f5s.loc[i].dropna().index) - set(f5s.loc[i+1].dropna().index)) for i in f5s.index if i < 2005})"
   ]
  },
  {
   "cell_type": "code",
   "execution_count": 20,
   "metadata": {},
   "outputs": [
    {
     "data": {
      "image/png": "[encoded data removed]",
      "text/plain": [
       "<Figure size 576x396 with 1 Axes>"
      ]
     },
     "metadata": {},
     "output_type": "display_data"
    }
   ],
   "source": [
    "year_diff.plot(xticks=np.arange(1955,2006,5), \n",
    "               label=(plt.xlabel('Year'),plt.ylabel('$\\Delta$ Companies')), \n",
    "               title=\"Difference in companies compared to previous year\");"
   ]
  },
  {
   "cell_type": "markdown",
   "metadata": {},
   "source": [
    "Looking at a chart of the year to year change in listed companies, we can see that 1994 to 1995 is an enormous outlier compared to all other year pairs. Assuming that there isn't an issue with dataset itself, we can almost certainly attribute this change to a revision in how the Fortune 500 list was chosen.  "
   ]
  },
  {
   "cell_type": "markdown",
   "metadata": {},
   "source": [
    "## Conclusions"
   ]
  },
  {
   "cell_type": "markdown",
   "metadata": {},
   "source": [
    "This notebook took a brief look at the Fortune 500 companies dataset (1955-2005). Our analysis led to several interesting discoveries, namely, we found that CBS and OfficeMax are included twice in certain years, and from 1994 to 1995 there was a dramatic shift in included companies. Despite the chosen dataset being relatively simple, we still managed to extract some useful information out of it. We did not even use the revenue or profits columns, so there is still a lot of room for exploration.\n",
    "\n",
    "#### Future Work\n",
    "We leave this notebook with some unanswered questions: \n",
    "\n",
    "* What actually caused the '94-95 shift? \n",
    "* Why were some companies included multiple times? \n",
    "\n",
    "A fully fleshed out analysis would seek external sources of information and bring it into the notebook to answer these questions. Additionally, we could certainly investigate profits and revenue to see how they correlate with ranking from year to year, or even do some simple linear modeling to really start to understand this data. These sort of analyses and many others will be performed in following notebooks, so have a look around if you'd like to dig a little deeper."
   ]
  }
 ],
 "metadata": {
  "kernelspec": {
   "display_name": "Python 3",
   "language": "python",
   "name": "python3"
  },
  "language_info": {
   "codemirror_mode": {
    "name": "ipython",
    "version": 3
   },
   "file_extension": ".py",
   "mimetype": "text/x-python",
   "name": "python",
   "nbconvert_exporter": "python",
   "pygments_lexer": "ipython3",
   "version": "3.7.3"
  }
 },
 "nbformat": 4,
 "nbformat_minor": 2
}
