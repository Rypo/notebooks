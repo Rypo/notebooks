{
 "cells": [
  {
   "cell_type": "markdown",
   "metadata": {
    "tags": [
     "jekyll_front_matter"
    ],
    "front_matter": {
     "title": "T-tests and Analysis of Variance (ANOVA)",
     "permalink": "/python/anova-ttests",
     "excerpt": "Analyzing a mock voters dataset using ANOVA, T-tests, and Turkey's Range Test.",
     "categories": [
      "python",
      "statistics"
     ],
     "tags": [
      "python",
      "statistics",
      "ANOVA",
      "ttests",
      "voting"
     ],
     "layout": "single-jnb",
     "author": "Ryan Gust",
     "date": "2018-09-30",
     "last_modified_at": "2019-01-10",
     "header": {
      "teaser": "assets/images/teasers/thumbs/ttests.png"
     }
    },
    "img_credit": "\n<!--Image thumbnail credit:\nImage: Carnegie Mellon.\nhttps://www.statisticshowto.datasciencecentral.com/probability-and-statistics/t-test/\n-->\n\n"
   },
   "source": [
    "<div style=\"color:#483D8B;text-align:center\">\n",
    "  <h1> T-tests and Analysis of Variance (ANOVA) </h1>\n",
    "  <h3> Ryan Gust </h3>\n",
    "  <h4> Updated: 2019-01-10 </h4>\n",
    "</div>"
   ]
  },
  {
   "cell_type": "markdown",
   "metadata": {},
   "source": [
    "## Overview"
   ]
  },
  {
   "cell_type": "markdown",
   "metadata": {},
   "source": [
    "This notebook will analyze a fabricated dataset representing race and age of voters.\n",
    "\n",
    "Tests used will include one-way ANOVA test, paired t-test, and Tukey's Range Test, starting with a baseline comparison before altering the data and moving on to the post hoc analyses."
   ]
  },
  {
   "cell_type": "markdown",
   "metadata": {},
   "source": [
    "#### Imports"
   ]
  },
  {
   "cell_type": "code",
   "execution_count": 1,
   "metadata": {},
   "outputs": [],
   "source": [
    "%matplotlib inline\n",
    "import numpy as np\n",
    "import pandas as pd\n",
    "import matplotlib.pyplot as plt\n",
    "import scipy.stats as ss\n",
    "from statsmodels.stats.multicomp import pairwise_tukeyhsd"
   ]
  },
  {
   "cell_type": "markdown",
   "metadata": {},
   "source": [
    "## Data"
   ]
  },
  {
   "cell_type": "markdown",
   "metadata": {},
   "source": [
    "The data used in this notebook is randomly generated, following the procedures outlined in [this blog post](http://hamelg.blogspot.com/2015/11/python-for-data-analysis-part-16_23.html) with minor alterations for segmentation purposes."
   ]
  },
  {
   "cell_type": "code",
   "execution_count": 2,
   "metadata": {},
   "outputs": [],
   "source": [
    "# Set a random state variable and assign it to scipy's random state\n",
    "ss.poisson.random_state = rand = np.random.RandomState(404)"
   ]
  },
  {
   "cell_type": "code",
   "execution_count": 3,
   "metadata": {},
   "outputs": [],
   "source": [
    "# Generate random data selected from a weighted distribution\n",
    "races = [\"asian\", \"black\", \"hispanic\", \"other\", \"white\"]\n",
    "voter_race = rand.choice(a=races, p=[0.05, 0.15, 0.25, 0.05, 0.5], size=1000)"
   ]
  },
  {
   "cell_type": "code",
   "execution_count": 4,
   "metadata": {},
   "outputs": [],
   "source": [
    "voter_age = ss.poisson.rvs(loc=18, mu=30, size=1000)\n",
    "white_ages = ss.poisson.rvs(loc=18, mu=32, size=1000) # increase the mean age of white voters\n",
    "\n",
    "age_shift = np.where(voter_race==\"white\", white_ages, voter_age) # Swap in altered white ages"
   ]
  },
  {
   "cell_type": "markdown",
   "metadata": {},
   "source": [
    "## Exploratory Data Analysis"
   ]
  },
  {
   "cell_type": "markdown",
   "metadata": {},
   "source": [
    "The data used in this notebook attempts to mock a racial distribution of a voter population sample. As it is artificially generated, no preprocessing is required. "
   ]
  },
  {
   "cell_type": "code",
   "execution_count": 5,
   "metadata": {},
   "outputs": [
    {
     "data": {
      "text/plain": [
       "F_onewayResult(statistic=0.26737204976027656, pvalue=0.8990043212082999)"
      ]
     },
     "execution_count": 5,
     "metadata": {},
     "output_type": "execute_result"
    }
   ],
   "source": [
    "# Group age data by race\n",
    "voters = pd.DataFrame({\"race\":voter_race, \"age\":voter_age})\n",
    "groups = voters.groupby(\"race\").groups\n",
    "\n",
    "# Perform the ANOVA\n",
    "ss.f_oneway(*[voter_age[v] for v in groups.values()])"
   ]
  },
  {
   "cell_type": "markdown",
   "metadata": {},
   "source": [
    "With a F-statistic of 0.2673 and a p-value of 0.899, the one-way ANOVA test provides a strong evidence that there is not a significant difference between means of each group. Since the data was all pulled from the same mock distribution, this is exactly what we would expect to see. "
   ]
  },
  {
   "cell_type": "markdown",
   "metadata": {},
   "source": [
    "### Modify Distribution and Reanalyze"
   ]
  },
  {
   "cell_type": "code",
   "execution_count": 6,
   "metadata": {
    "scrolled": true
   },
   "outputs": [
    {
     "data": {
      "image/png": "[encoded data removed]",
      "text/plain": [
       "<Figure size 432x288 with 1 Axes>"
      ]
     },
     "metadata": {
      "needs_background": "light"
     },
     "output_type": "display_data"
    }
   ],
   "source": [
    "plt.hist(voter_age, alpha=0.5, label='all ages: $\\mu=30$')\n",
    "plt.hist(age_shift, alpha=0.5, label='white age: $\\mu=32$')\n",
    "plt.legend()\n",
    "plt.show()"
   ]
  },
  {
   "cell_type": "markdown",
   "metadata": {},
   "source": [
    "Now, we will be performing the same test on the modified dataset. Visually, we can already see how increasing the mean age of white voters effects the distribution. "
   ]
  },
  {
   "cell_type": "code",
   "execution_count": 7,
   "metadata": {},
   "outputs": [
    {
     "data": {
      "text/plain": [
       "F_onewayResult(statistic=13.550717021659178, pvalue=9.24549061364278e-11)"
      ]
     },
     "execution_count": 7,
     "metadata": {},
     "output_type": "execute_result"
    }
   ],
   "source": [
    "# Group age data by race\n",
    "voters_shift = pd.DataFrame({\"race\":voter_race, \"age\":age_shift})\n",
    "groups_shift = voters_shift.groupby(\"race\").groups   \n",
    "\n",
    "# Perform the ANOVA\n",
    "ss.f_oneway(*[age_shift[v] for v in groups_shift.values()])"
   ]
  },
  {
   "cell_type": "markdown",
   "metadata": {},
   "source": [
    "After the change, the F-statistic is 13.55 and the p-value is 9.245e-11<br>\n",
    "A p-value of this size is many orders of magnitude smaller than p=0.05, a commonly used significance level.  This serves as a very strong indication that there are indeed differences between the groups. "
   ]
  },
  {
   "cell_type": "markdown",
   "metadata": {},
   "source": [
    "An **F-statistic** in the simplest sense is just the ratio of two variances. Building on this, an **F-test** is used for assessing whether the statistic follows an F-distribution under the null hypothesis. <br>\n",
    "A **one-way ANOVA test** uses F-tests as means to determine whether variance is due to differences _within_ groups of data or differences _between_ the groups. Put another way, a one-way ANOVA test assess whether variance between two or more (typically three or more) sample means is statistically significant. "
   ]
  },
  {
   "cell_type": "code",
   "execution_count": 8,
   "metadata": {},
   "outputs": [],
   "source": [
    "# Get all unique racial pairings\n",
    "race_pairs = [(races[r1], races[r2]) for r1 in range(4) for r2 in range(r1+1,5)]"
   ]
  },
  {
   "cell_type": "code",
   "execution_count": 9,
   "metadata": {
    "code_folding": [],
    "scrolled": false
   },
   "outputs": [
    {
     "name": "stdout",
     "output_type": "stream",
     "text": [
      "asian black \t: Ttest_indResult(statistic=0.5081230371721365, pvalue=0.6119242403088412)\n",
      "asian hispanic \t: Ttest_indResult(statistic=0.6204493257066322, pvalue=0.5354223107249675)\n",
      "asian other \t: Ttest_indResult(statistic=0.8804714769956019, pvalue=0.38034939855706185)\n",
      "asian white \t: Ttest_indResult(statistic=-2.6589616806422485, pvalue=0.008072090696940136)\n",
      "black hispanic \t: Ttest_indResult(statistic=0.12543582439538467, pvalue=0.9002425060815309)\n",
      "black other \t: Ttest_indResult(statistic=0.6237279268453277, pvalue=0.5334896890146905)\n",
      "black white \t: Ttest_indResult(statistic=-4.852584065988863, pvalue=1.5413623060362876e-06)\n",
      "hispanic other \t: Ttest_indResult(statistic=0.5585844610829792, pvalue=0.5768434528987283)\n",
      "hispanic white \t: Ttest_indResult(statistic=-6.0120762205487575, pvalue=2.89291138112763e-09)\n",
      "other white \t: Ttest_indResult(statistic=-4.130139676281511, pvalue=4.195825609847373e-05)\n"
     ]
    }
   ],
   "source": [
    "# Conduct t-test on each pair for the altered data\n",
    "for race1, race2 in race_pairs: \n",
    "    print(race1, race2,'\\t:', ss.ttest_ind(age_shift[groups_shift[race1]], age_shift[groups_shift[race2]])) "
   ]
  },
  {
   "cell_type": "code",
   "execution_count": 10,
   "metadata": {},
   "outputs": [
    {
     "name": "stdout",
     "output_type": "stream",
     "text": [
      "asian white \t: Ttest_indResult(statistic=-2.6589616806422485, pvalue=0.008072090696940136)\n",
      "black white \t: Ttest_indResult(statistic=-4.852584065988863, pvalue=1.5413623060362876e-06)\n",
      "hispanic white \t: Ttest_indResult(statistic=-6.0120762205487575, pvalue=2.89291138112763e-09)\n",
      "other white \t: Ttest_indResult(statistic=-4.130139676281511, pvalue=4.195825609847373e-05)\n"
     ]
    }
   ],
   "source": [
    "# print the most likely candidates based on p-value and significance level\n",
    "for race1, race2 in race_pairs:\n",
    "    siglvl = 0.05\n",
    "    result = ss.ttest_ind(age_shift[groups_shift[race1]], age_shift[groups_shift[race2]])\n",
    "    if result.pvalue < siglvl:\n",
    "        print(race1, race2,'\\t:',result) "
   ]
  },
  {
   "cell_type": "markdown",
   "metadata": {},
   "source": [
    "With the one-way ANOVA test indicating a significant between groups did exist, conducting a pairwise t-test on each group pairing allows us to hone in on which group(s) stands out. \n",
    "\n",
    "The p-values should be taken with a grain of salt, however, since as you increase the number of comparisons made, you as well introduce more opportunities for random chance to play a large factor. One of the simplest ways to address this is issue is with a [Bonferroni correction](https://en.wikipedia.org/wiki/Bonferroni_correction). <br>\n",
    "A **Bonferroni correction** addresses the [Multiple comparisons problem](https://en.wikipedia.org/wiki/Multiple_comparisons_problem) by simply dividing the starting significance level (e.g. p=0.05) by the number of comparisons made (in this case 10).\n",
    "\n"
   ]
  },
  {
   "cell_type": "code",
   "execution_count": 11,
   "metadata": {
    "scrolled": false
   },
   "outputs": [
    {
     "data": {
      "text/html": [
       "<table class=\"simpletable\">\n",
       "<caption>Multiple Comparison of Means - Tukey HSD,FWER=0.05</caption>\n",
       "<tr>\n",
       "   <th>group1</th>   <th>group2</th>  <th>meandiff</th>  <th>lower</th>   <th>upper</th> <th>reject</th>\n",
       "</tr>\n",
       "<tr>\n",
       "    <td>asian</td>    <td>black</td>   <td>-0.4483</td> <td>-2.8332</td> <td>1.9367</td>  <td>False</td>\n",
       "</tr>\n",
       "<tr>\n",
       "    <td>asian</td>  <td>hispanic</td>  <td>-0.5205</td> <td>-2.757</td>  <td>1.7159</td>  <td>False</td>\n",
       "</tr>\n",
       "<tr>\n",
       "    <td>asian</td>    <td>other</td>   <td>-0.9576</td> <td>-3.7303</td> <td>1.8152</td>  <td>False</td>\n",
       "</tr>\n",
       "<tr>\n",
       "    <td>asian</td>    <td>white</td>   <td>2.0986</td>  <td>-0.0352</td> <td>4.2323</td>  <td>False</td>\n",
       "</tr>\n",
       "<tr>\n",
       "    <td>black</td>  <td>hispanic</td>  <td>-0.0723</td> <td>-1.6735</td>  <td>1.529</td>  <td>False</td>\n",
       "</tr>\n",
       "<tr>\n",
       "    <td>black</td>    <td>other</td>   <td>-0.5093</td> <td>-2.8007</td> <td>1.7821</td>  <td>False</td>\n",
       "</tr>\n",
       "<tr>\n",
       "    <td>black</td>    <td>white</td>   <td>2.5468</td>  <td>1.0925</td>  <td>4.0012</td>  <td>True</td> \n",
       "</tr>\n",
       "<tr>\n",
       "  <td>hispanic</td>   <td>other</td>   <td>-0.437</td>  <td>-2.5734</td> <td>1.6994</td>  <td>False</td>\n",
       "</tr>\n",
       "<tr>\n",
       "  <td>hispanic</td>   <td>white</td>   <td>2.6191</td>  <td>1.4238</td>  <td>3.8144</td>  <td>True</td> \n",
       "</tr>\n",
       "<tr>\n",
       "    <td>other</td>    <td>white</td>   <td>3.0561</td>  <td>1.0275</td>  <td>5.0847</td>  <td>True</td> \n",
       "</tr>\n",
       "</table>"
      ],
      "text/plain": [
       "<class 'statsmodels.iolib.table.SimpleTable'>"
      ]
     },
     "execution_count": 11,
     "metadata": {},
     "output_type": "execute_result"
    },
    {
     "data": {
      "image/png": "[encoded data removed]",
      "text/plain": [
       "<Figure size 720x432 with 1 Axes>"
      ]
     },
     "metadata": {
      "needs_background": "light"
     },
     "output_type": "display_data"
    }
   ],
   "source": [
    "# endog = data, alpha = Significance level\n",
    "tukey2 = pairwise_tukeyhsd(endog=age_shift, groups=voter_race, alpha=0.05)  \n",
    "\n",
    "tukey2.plot_simultaneous() # Plot group confidence intervals\n",
    "plt.vlines(x=49.55, ymin=-0.5, ymax=4.5, color=\"red\")\n",
    "\n",
    "tukey2.summary()"
   ]
  },
  {
   "cell_type": "markdown",
   "metadata": {},
   "source": [
    "**Tukey's test** is more exacting in the way that it approaches the Multiple comparisons problem. Rather than conducting pairwise t-tests and adjusting the significance level to compensate, Tukey's test, in effect, combines t-tests with an adjustment made to correct for the [family-wise error rate](https://en.wikipedia.org/wiki/Family-wise_error_rate).\n",
    "\n",
    "Tukey's test is not the most precise for all cases but works quite well when confidence intervals are needed or sample sizes are unequal.\n",
    "\n",
    "https://en.wikipedia.org/wiki/Tukey%27s_range_test"
   ]
  },
  {
   "cell_type": "markdown",
   "metadata": {},
   "source": [
    "## Conclusions"
   ]
  },
  {
   "cell_type": "markdown",
   "metadata": {},
   "source": [
    "This note demonstrated the use of: \n",
    "* one-way ANOVA test \n",
    "* pairwise t-tests \n",
    "* Tukey's range test\n",
    "\n",
    "on a generated dataset representing fictitious voter demographics.\n",
    "\n",
    "Future works could involve the use of a real vote demographic dataset, as opposed to a mocked up one, exploring other methods of dealing with the multiple comparison problem (e.g. [Scheffé's method](https://en.wikipedia.org/wiki/Scheff%C3%A9%27s_method), [Newman–Keuls method](https://en.wikipedia.org/wiki/Newman%E2%80%93Keuls_method)), and potentially using other variants of ANOVA tests. "
   ]
  },
  {
   "cell_type": "markdown",
   "metadata": {},
   "source": [
    "### References\n",
    "\n",
    "#### Text:\n",
    "\n",
    "1. http://hamelg.blogspot.com/2015/11/python-for-data-analysis-part-16_23.html\n",
    "2. http://statisticsbyjim.com/anova/f-tests-anova/ \n",
    "3. https://www.statisticshowto.datasciencecentral.com/probability-and-statistics/f-statistic-value-test/#FandP\n",
    "4. http://blog.minitab.com/blog/adventures-in-statistics-2/understanding-analysis-of-variance-anova-and-the-f-test\n",
    "5. https://en.wikipedia.org/wiki/One-way_analysis_of_variance\n",
    "6. https://en.wikipedia.org/wiki/F-test\n",
    "\n",
    "#### Code:\n",
    "1. http://hamelg.blogspot.com/2015/11/python-for-data-analysis-part-16_23.html"
   ]
  }
 ],
 "metadata": {
  "hide_input": false,
  "kernelspec": {
   "display_name": "Python 3",
   "language": "python",
   "name": "python3"
  },
  "language_info": {
   "codemirror_mode": {
    "name": "ipython",
    "version": 3
   },
   "file_extension": ".py",
   "mimetype": "text/x-python",
   "name": "python",
   "nbconvert_exporter": "python",
   "pygments_lexer": "ipython3",
   "version": "3.7.3"
  }
 },
 "nbformat": 4,
 "nbformat_minor": 2
}
